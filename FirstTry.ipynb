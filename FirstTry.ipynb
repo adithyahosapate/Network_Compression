{
 "cells": [
  {
   "cell_type": "code",
   "execution_count": 37,
   "metadata": {
    "collapsed": true
   },
   "outputs": [],
   "source": [
    "from numpy import *\n",
    "import os\n",
    "#from pylab import *\n",
    "import numpy as np\n",
    "#import matplotlib.pyplot as plt\n",
    "#import matplotlib.cbook as cbook\n",
    "import time\n",
    "from scipy.misc import imread\n",
    "from scipy.misc import imresize\n",
    "import matplotlib.image as mpimg\n",
    "from scipy.ndimage import filters\n",
    "import urllib\n",
    "from numpy import random\n",
    "import matplotlib.pyplot as plt\n",
    "%matplotlib inline"
   ]
  },
  {
   "cell_type": "code",
   "execution_count": 38,
   "metadata": {},
   "outputs": [
    {
     "name": "stdout",
     "output_type": "stream",
     "text": [
      "[u'fc6', u'fc7', u'fc8', u'conv3', u'conv2', u'conv1', u'conv5', u'conv4']\n"
     ]
    },
    {
     "data": {
      "text/plain": [
       "(4096, 1000)"
      ]
     },
     "execution_count": 38,
     "metadata": {},
     "output_type": "execute_result"
    },
    {
     "name": "stdout",
     "output_type": "stream",
     "text": [
      "(4096, 1000)\n"
     ]
    }
   ],
   "source": [
    "# X = np.load('./bvlc_alexnet.npy', mmap_mode='r')\n",
    "net_data = load(open(\"bvlc_alexnet.npy\", \"rb\"), encoding=\"latin1\").item()\n",
    "print net_data.keys()\n",
    "\n",
    "net_data[\"fc8\"][0].shape\n",
    "a=net_data[\"fc8\"][0]\n",
    "# net_data[\"conv1\"][0].shape\n",
    "# net_data[\"conv1\"][0]\n",
    "\n",
    "U, s, V = np.linalg.svd(a, full_matrices=False)\n",
    "print U.shape\n",
    "S=np.diag(s)\n"
   ]
  },
  {
   "cell_type": "code",
   "execution_count": 45,
   "metadata": {
    "collapsed": true
   },
   "outputs": [],
   "source": [
    "U, s, V = np.linalg.svd(a, full_matrices=False)\n",
    "def SVD_Custom(U,s,V,a,k):\n",
    "    S=np.diag(s)\n",
    "    S=S[np.ix_(arange(k),arange(k))]\n",
    "    U=U[np.ix_(arange(U.shape[0]),arange(k))]\n",
    "    V=V[:k]\n",
    "    A=np.dot(np.dot(U,S),V)\n",
    "    if k==1:\n",
    "        print A-a \n",
    "    Norm=np.linalg.norm(A-a)\n",
    "    return Norm\n"
   ]
  },
  {
   "cell_type": "code",
   "execution_count": 46,
   "metadata": {},
   "outputs": [
    {
     "name": "stdout",
     "output_type": "stream",
     "text": [
      "[[-0.0168666  -0.01653733  0.00425602 ..., -0.01142243 -0.00261313\n",
      "  -0.00154842]\n",
      " [-0.01216605 -0.00451211 -0.00899448 ...,  0.00151228  0.01173465\n",
      "   0.00850069]\n",
      " [ 0.01019611 -0.00398413  0.00816927 ...,  0.00189829 -0.00756291\n",
      "  -0.00190332]\n",
      " ..., \n",
      " [-0.00945242  0.02095327 -0.00640029 ..., -0.00486274 -0.01395431\n",
      "   0.00900442]\n",
      " [ 0.00972705  0.0088059   0.014521   ...,  0.01306662  0.00708947\n",
      "  -0.00498037]\n",
      " [-0.00577502  0.00882816  0.00427127 ..., -0.023031   -0.02006461\n",
      "   0.00520852]]\n"
     ]
    },
    {
     "data": {
      "text/plain": [
       "[<matplotlib.lines.Line2D at 0x7fcf7c549f50>]"
      ]
     },
     "execution_count": 46,
     "metadata": {},
     "output_type": "execute_result"
    },
    {
     "data": {
      "image/png": "[encoded data removed]",
      "text/plain": [
       "<matplotlib.figure.Figure at 0x7fcf5390d390>"
      ]
     },
     "metadata": {},
     "output_type": "display_data"
    }
   ],
   "source": [
    "norm=[]\n",
    "for i in xrange(1,400):\n",
    "    norm.append(SVD_Custom(U,s,V,a,i))\n",
    "plt.plot(xrange(1,400),norm)\n"
   ]
  },
  {
   "cell_type": "code",
   "execution_count": 44,
   "metadata": {},
   "outputs": [
    {
     "name": "stdout",
     "output_type": "stream",
     "text": [
      "21.2081\n"
     ]
    }
   ],
   "source": [
    "print norm[0]"
   ]
  },
  {
   "cell_type": "code",
   "execution_count": null,
   "metadata": {
    "collapsed": true
   },
   "outputs": [],
   "source": []
  }
 ],
 "metadata": {
  "kernelspec": {
   "display_name": "Python 2",
   "language": "python",
   "name": "python2"
  }
 },
 "nbformat": 4,
 "nbformat_minor": 2
}
